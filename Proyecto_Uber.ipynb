{
  "cells": [
    {
      "cell_type": "markdown",
      "source": [
        "\n",
        "**CODIGO FUNCIONAL**\n",
        "\n",
        "\n",
        "\n"
      ],
      "metadata": {
        "id": "PBbHc21X-8JA"
      }
    },
    {
      "cell_type": "code",
      "source": [
        "# Instalar dependencias necesarias\n",
        "!pip install kagglehub fastapi uvicorn nest-asyncio pyngrok joblib\n",
        "\n",
        "# Importar librerías\n",
        "import pandas as pd\n",
        "import numpy as np\n",
        "import matplotlib.pyplot as plt\n",
        "import seaborn as sns\n",
        "from sklearn.ensemble import GradientBoostingRegressor\n",
        "from sklearn.model_selection import train_test_split\n",
        "from sklearn.metrics import mean_squared_error\n",
        "from sklearn.preprocessing import OneHotEncoder\n",
        "import joblib\n",
        "import os\n",
        "import kagglehub\n",
        "\n",
        "# Descargar dataset\n",
        "path = kagglehub.dataset_download(\"yashdevladdha/uber-ride-analytics-dashboard\")\n",
        "df = pd.read_csv(f\"{path}/ncr_ride_bookings.csv\")\n",
        "\n",
        "# 🧹 Preprocesamiento\n",
        "df = df[df[\"Booking Status\"] == \"Completed\"].copy()\n",
        "df[\"DateTime\"] = pd.to_datetime(df[\"Date\"].astype(str) + \" \" + df[\"Time\"].astype(str))\n",
        "df[\"Hour\"] = df[\"DateTime\"].dt.hour\n",
        "df[\"DayOfWeek\"] = df[\"DateTime\"].dt.dayofweek\n",
        "df[\"IsWeekend\"] = df[\"DayOfWeek\"].isin([5, 6]).astype(int)\n",
        "df[\"IsPeakHour\"] = df[\"Hour\"].isin([7, 8, 9, 17, 18, 19]).astype(int)\n",
        "\n",
        "# Codificación One-Hot con manejo de categorías desconocidas\n",
        "encoder = OneHotEncoder(sparse_output=False, handle_unknown=\"ignore\")\n",
        "encoder.fit(df[[\"Vehicle Type\"]])\n",
        "vehicle_encoded = encoder.transform(df[[\"Vehicle Type\"]])\n",
        "vehicle_df = pd.DataFrame(vehicle_encoded, columns=encoder.get_feature_names_out([\"Vehicle Type\"]))\n",
        "\n",
        "#  Combinar con el dataframe original\n",
        "df = pd.concat([df.reset_index(drop=True), vehicle_df], axis=1)\n",
        "\n",
        "# Selección de variables\n",
        "features = [\"Hour\", \"DayOfWeek\", \"IsWeekend\", \"IsPeakHour\", \"Ride Distance\"] + list(vehicle_df.columns)\n",
        "X = df[features]\n",
        "y = df[\"Booking Value\"]\n",
        "\n",
        "# Entrenamiento del modelo\n",
        "X_train, X_test, y_train, y_test = train_test_split(X, y, test_size=0.2, random_state=42)\n",
        "model = GradientBoostingRegressor()\n",
        "model.fit(X_train, y_train)\n",
        "\n",
        "# Evaluación\n",
        "y_pred = model.predict(X_test)\n",
        "mse = mean_squared_error(y_test, y_pred)\n",
        "print(f\"Error Cuadrático Medio (MSE): {mse:.2f}\")\n",
        "\n",
        "# Guardar modelo y encoder\n",
        "joblib.dump(model, \"gradient_boosting_model.pkl\")\n",
        "joblib.dump(encoder, \"vehicle_encoder.pkl\")\n"
      ],
      "metadata": {
        "colab": {
          "base_uri": "https://localhost:8080/"
        },
        "id": "lqoi9TQF_BPX",
        "outputId": "b721cd49-121a-4857-8092-7588a005738a"
      },
      "execution_count": null,
      "outputs": [
        {
          "output_type": "stream",
          "name": "stdout",
          "text": [
            "Requirement already satisfied: kagglehub in /usr/local/lib/python3.12/dist-packages (0.3.13)\n",
            "Requirement already satisfied: fastapi in /usr/local/lib/python3.12/dist-packages (0.118.0)\n",
            "Requirement already satisfied: uvicorn in /usr/local/lib/python3.12/dist-packages (0.37.0)\n",
            "Requirement already satisfied: nest-asyncio in /usr/local/lib/python3.12/dist-packages (1.6.0)\n",
            "Requirement already satisfied: pyngrok in /usr/local/lib/python3.12/dist-packages (7.4.0)\n",
            "Requirement already satisfied: joblib in /usr/local/lib/python3.12/dist-packages (1.5.2)\n",
            "Requirement already satisfied: packaging in /usr/local/lib/python3.12/dist-packages (from kagglehub) (25.0)\n",
            "Requirement already satisfied: pyyaml in /usr/local/lib/python3.12/dist-packages (from kagglehub) (6.0.3)\n",
            "Requirement already satisfied: requests in /usr/local/lib/python3.12/dist-packages (from kagglehub) (2.32.4)\n",
            "Requirement already satisfied: tqdm in /usr/local/lib/python3.12/dist-packages (from kagglehub) (4.67.1)\n",
            "Requirement already satisfied: starlette<0.49.0,>=0.40.0 in /usr/local/lib/python3.12/dist-packages (from fastapi) (0.48.0)\n",
            "Requirement already satisfied: pydantic!=1.8,!=1.8.1,!=2.0.0,!=2.0.1,!=2.1.0,<3.0.0,>=1.7.4 in /usr/local/lib/python3.12/dist-packages (from fastapi) (2.11.9)\n",
            "Requirement already satisfied: typing-extensions>=4.8.0 in /usr/local/lib/python3.12/dist-packages (from fastapi) (4.15.0)\n",
            "Requirement already satisfied: click>=7.0 in /usr/local/lib/python3.12/dist-packages (from uvicorn) (8.3.0)\n",
            "Requirement already satisfied: h11>=0.8 in /usr/local/lib/python3.12/dist-packages (from uvicorn) (0.16.0)\n",
            "Requirement already satisfied: annotated-types>=0.6.0 in /usr/local/lib/python3.12/dist-packages (from pydantic!=1.8,!=1.8.1,!=2.0.0,!=2.0.1,!=2.1.0,<3.0.0,>=1.7.4->fastapi) (0.7.0)\n",
            "Requirement already satisfied: pydantic-core==2.33.2 in /usr/local/lib/python3.12/dist-packages (from pydantic!=1.8,!=1.8.1,!=2.0.0,!=2.0.1,!=2.1.0,<3.0.0,>=1.7.4->fastapi) (2.33.2)\n",
            "Requirement already satisfied: typing-inspection>=0.4.0 in /usr/local/lib/python3.12/dist-packages (from pydantic!=1.8,!=1.8.1,!=2.0.0,!=2.0.1,!=2.1.0,<3.0.0,>=1.7.4->fastapi) (0.4.2)\n",
            "Requirement already satisfied: anyio<5,>=3.6.2 in /usr/local/lib/python3.12/dist-packages (from starlette<0.49.0,>=0.40.0->fastapi) (4.11.0)\n",
            "Requirement already satisfied: charset_normalizer<4,>=2 in /usr/local/lib/python3.12/dist-packages (from requests->kagglehub) (3.4.3)\n",
            "Requirement already satisfied: idna<4,>=2.5 in /usr/local/lib/python3.12/dist-packages (from requests->kagglehub) (3.10)\n",
            "Requirement already satisfied: urllib3<3,>=1.21.1 in /usr/local/lib/python3.12/dist-packages (from requests->kagglehub) (2.5.0)\n",
            "Requirement already satisfied: certifi>=2017.4.17 in /usr/local/lib/python3.12/dist-packages (from requests->kagglehub) (2025.8.3)\n",
            "Requirement already satisfied: sniffio>=1.1 in /usr/local/lib/python3.12/dist-packages (from anyio<5,>=3.6.2->starlette<0.49.0,>=0.40.0->fastapi) (1.3.1)\n",
            "Using Colab cache for faster access to the 'uber-ride-analytics-dashboard' dataset.\n",
            "Error Cuadrático Medio (MSE): 150985.44\n"
          ]
        },
        {
          "output_type": "execute_result",
          "data": {
            "text/plain": [
              "['vehicle_encoder.pkl']"
            ]
          },
          "metadata": {},
          "execution_count": 6
        }
      ]
    },
    {
      "cell_type": "code",
      "source": [
        "# Importar librerías para la API\n",
        "from fastapi import FastAPI\n",
        "from pydantic import BaseModel\n",
        "import nest_asyncio\n",
        "from pyngrok import ngrok\n",
        "import uvicorn\n",
        "import threading\n",
        "import time\n",
        "import requests\n",
        "\n",
        "# 🧩 Activar compatibilidad con Colab\n",
        "nest_asyncio.apply()\n",
        "\n",
        "# Configurar ngrok\n",
        "ngrok.set_auth_token(\"33X41rhmDQpmvew1rCUaavqsuLz_6djyJawZD7azXwYArNmLH\")\n",
        "\n",
        "# Cargar modelo y encoder\n",
        "model = joblib.load(\"gradient_boosting_model.pkl\")\n",
        "encoder = joblib.load(\"vehicle_encoder.pkl\")\n",
        "print(\" Modelo y codificador cargados correctamente\")\n",
        "\n",
        "# Crear la API\n",
        "app = FastAPI()\n",
        "\n",
        "class RideFeatures(BaseModel):\n",
        "    hour: int\n",
        "    day_of_week: int\n",
        "    is_weekend: int\n",
        "    is_peak_hour: int\n",
        "    ride_distance: float\n",
        "    vehicle_type: str\n",
        "\n",
        "@app.post(\"/predict\")\n",
        "def predict_price(features: RideFeatures):\n",
        "    try:\n",
        "        vehicle_encoded = encoder.transform([[features.vehicle_type]])\n",
        "        vehicle_df = pd.DataFrame(vehicle_encoded, columns=encoder.get_feature_names_out([\"Vehicle Type\"]))\n",
        "        input_data = pd.DataFrame([{\n",
        "            \"Hour\": features.hour,\n",
        "            \"DayOfWeek\": features.day_of_week,\n",
        "            \"IsWeekend\": features.is_weekend,\n",
        "            \"IsPeakHour\": features.is_peak_hour,\n",
        "            \"Ride Distance\": features.ride_distance\n",
        "        }])\n",
        "        input_data = pd.concat([input_data, vehicle_df], axis=1)\n",
        "        prediction = model.predict(input_data)[0]\n",
        "        return {\"valor_estimado_del_viaje\": round(prediction, 2)}\n",
        "    except Exception as e:\n",
        "        return {\"error\": str(e)}\n",
        "\n",
        "# Crear túnel ngrok\n",
        "public_url = ngrok.connect(8000).public_url\n",
        "print(f\" Tu API está disponible en: {public_url}\")\n",
        "\n",
        "#  Lanzar servidor en segundo plano\n",
        "def run_server():\n",
        "    uvicorn.run(app, host=\"0.0.0.0\", port=8000)\n",
        "\n",
        "if not any(thread.name == \"ServerThread\" for thread in threading.enumerate()):\n",
        "    server_thread = threading.Thread(target=run_server, name=\"ServerThread\")\n",
        "    server_thread.start()\n",
        "\n",
        "# Esperar a que el servidor esté listo\n",
        "time.sleep(5)\n",
        "\n",
        "# Probar la API\n",
        "url = f\"{public_url}/predict\"\n",
        "data = {\n",
        "    \"hour\": 23,\n",
        "    \"day_of_week\": 6,\n",
        "    \"is_weekend\": 1,\n",
        "    \"is_peak_hour\": 0,\n",
        "    \"ride_distance\": 3.5,\n",
        "    \"vehicle_type\": \"Mini\"\n",
        "}\n",
        "response = requests.post(url, json=data)\n",
        "print(\"Status:\", response.status_code)\n",
        "print(\"Respuesta:\", response.json())\n"
      ],
      "metadata": {
        "colab": {
          "base_uri": "https://localhost:8080/"
        },
        "id": "FjzbfhWQ_p17",
        "outputId": "ef890f2f-6a23-46c5-fb91-bb11790b3005"
      },
      "execution_count": null,
      "outputs": [
        {
          "output_type": "stream",
          "name": "stdout",
          "text": [
            " Modelo y codificador cargados correctamente\n",
            " Tu API está disponible en: https://unprobational-hyenoid-rebecka.ngrok-free.dev\n",
            "INFO:     34.133.205.139:0 - \"POST /predict HTTP/1.1\" 200 OK\n",
            "Status: 200\n",
            "Respuesta: {'valor_estimado_del_viaje': 682.6}\n"
          ]
        },
        {
          "output_type": "stream",
          "name": "stderr",
          "text": [
            "/usr/local/lib/python3.12/dist-packages/sklearn/utils/validation.py:2739: UserWarning: X does not have valid feature names, but OneHotEncoder was fitted with feature names\n",
            "  warnings.warn(\n"
          ]
        }
      ]
    }
  ],
  "metadata": {
    "colab": {
      "provenance": []
    },
    "kernelspec": {
      "display_name": "Python 3",
      "name": "python3"
    },
    "language_info": {
      "name": "python"
    }
  },
  "nbformat": 4,
  "nbformat_minor": 0
}